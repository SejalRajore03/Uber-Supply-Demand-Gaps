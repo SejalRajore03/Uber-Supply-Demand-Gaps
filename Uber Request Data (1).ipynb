{
 "cells": [
  {
   "cell_type": "markdown",
   "id": "ace19a4a-b05c-4c3a-94de-83c7dedfcfe1",
   "metadata": {},
   "source": [
    "# Project Name - Uber Request Data"
   ]
  },
  {
   "cell_type": "markdown",
   "id": "76ca7b11-e9d8-47f0-a3b4-023e8ee269e0",
   "metadata": {},
   "source": [
    "## Project Type - EDA/Regression"
   ]
  },
  {
   "cell_type": "markdown",
   "id": "92765f6c-ae31-49ce-a2c7-6566e17feef8",
   "metadata": {},
   "source": [
    "## Contribution - Individual"
   ]
  },
  {
   "cell_type": "markdown",
   "id": "091e6e4e-b8f9-433a-ae3e-163afb5dae49",
   "metadata": {},
   "source": [
    "## Team Member 1 - Sejal Rajore"
   ]
  },
  {
   "cell_type": "markdown",
   "id": "b3bf28ce-23a8-4e17-a7b0-a1f33ca14642",
   "metadata": {},
   "source": [
    "# Project Summary - "
   ]
  },
  {
   "cell_type": "raw",
   "id": "483674eb-4930-49b7-bedd-2c6875699217",
   "metadata": {},
   "source": [
    "In Uber Request Data there are five columns such as (Request timestamp, Drop timestamp,Pickup point (City or Airport),\n",
    "Status (Trip Completed, Cancelled, No Cars Available),Driver id) etc.\n",
    "This dataset provides rich insights into urban mobility demand patterns, and when analyzed effectively, it helps Uber make data-driven decisions to balance demand and supply, reduce service failures, and improve rider and driver satisfaction."
   ]
  },
  {
   "cell_type": "markdown",
   "id": "d3088cf9-e9f1-45e1-8664-b9680c2f093e",
   "metadata": {},
   "source": [
    "# Github Link - "
   ]
  },
  {
   "cell_type": "code",
   "execution_count": null,
   "id": "0853206d-3bf6-4e1e-84ea-71e412ab44ec",
   "metadata": {},
   "outputs": [],
   "source": []
  },
  {
   "cell_type": "markdown",
   "id": "40e5ff3b-2085-46ca-a6d1-096ff04bd721",
   "metadata": {},
   "source": [
    "# Problem Statement"
   ]
  },
  {
   "cell_type": "raw",
   "id": "b892d093-25fb-4397-af44-ca1bbe71edf7",
   "metadata": {},
   "source": [
    "Uber, as a leading ride-hailing service, faces operational challenges in managing ride requests efficiently, especially during peak traffic hours. The company frequently encounters:\n",
    " 1. High cancellation rates\n",
    " 2. Unfulfilled ride requests (No Cars Available)\n",
    " 3.Uneven driver distribution\n",
    " 4.Long wait times and trip delays\n",
    "These issues lead to customer dissatisfaction, lost revenue opportunities, and reduced driver productivity.\n",
    "To address these concerns, Uber needs to analyze historical ride request data to understand:\n",
    " 1. When and where demand surges\n",
    " 2. Why cancellations and service unavailability occur\n",
    " 3. How to improve driver allocation and reduce service failures"
   ]
  },
  {
   "cell_type": "markdown",
   "id": "5854a42c-c86a-4866-a06f-f564f86b28e9",
   "metadata": {},
   "source": [
    "## Define Your Business Objective ?"
   ]
  },
  {
   "cell_type": "raw",
   "id": "c0a6b219-4c1a-44c4-989e-775756c53e3a",
   "metadata": {},
   "source": [
    "1. Improve Driver Allocation and Availability\n",
    "2. Reduce Cancellations\n",
    "3. Enhance User Experience\n",
    "4. Support Data-Driven Policy Making"
   ]
  },
  {
   "cell_type": "markdown",
   "id": "4f650da9-1708-4ec8-8729-0599507d5003",
   "metadata": {},
   "source": [
    "# General Guidelines :-"
   ]
  },
  {
   "cell_type": "raw",
   "id": "4f0ebcc1-3254-4c59-8a60-d529a97fdcc6",
   "metadata": {},
   "source": [
    "1. Well-structured, formatted, and commented code is required.\n",
    "2. Exception Handling, Production Grade Code & Deployment Ready Code will be a plus. Those students will be awarded some additional credits.\n",
    "The additional credits will have advantages over other students during Star Student selection.\n",
    "       [ Note: - Deployment Ready Code is defined as, the whole .ipynb notebook should be executable in one go\n",
    "                       without a single error logged. ]\n",
    "\n",
    "3. Each and every logic should have proper comments.\n",
    "4. You may add as many number of charts you want. Make Sure for each and every chart the following format should be answered.\n",
    "        \n",
    "```\n",
    "# Chart visualization code\n",
    "```\n",
    "* Why did you pick the specific chart?\n",
    "* What is/are the insight(s) found from the chart?\n",
    "* Will the gained insights help creating a positive business impact?\n",
    "Are there any insights that lead to negative growth? Justify with specific reason.\n",
    "\n",
    "5. You have to create at least 20 logical & meaningful charts having important insights.\n",
    "\n",
    "[ Hints : - Do the Vizualization in  a structured way while following \"UBM\" Rule.\n",
    "\n",
    "U - Univariate Analysis,\n",
    "B - Bivariate Analysis (Numerical - Categorical, Numerical - Numerical, Categorical - Categorical)\n",
    "M - Multivariate Analysis\n",
    " ]\n"
   ]
  },
  {
   "cell_type": "markdown",
   "id": "70ecfd9d-ab56-4814-9dee-421f4b07a4b1",
   "metadata": {},
   "source": [
    "# Let's Begin !"
   ]
  },
  {
   "cell_type": "markdown",
   "id": "70e55860-87e3-46db-9b24-c564b4d3bf6e",
   "metadata": {},
   "source": [
    "# 1. Know Your Data"
   ]
  },
  {
   "cell_type": "markdown",
   "id": "a7f17f0b-ae32-4334-9f15-e957f1a05e86",
   "metadata": {},
   "source": [
    "## Import Libraries"
   ]
  },
  {
   "cell_type": "code",
   "execution_count": 10,
   "id": "dba87ff8-6f9c-4c77-869e-0f52fce842e0",
   "metadata": {},
   "outputs": [],
   "source": [
    "# Import Libraries\n",
    "import pandas as pd\n",
    "import numpy as np\n",
    "import seaborn as sns\n",
    "import matplotlib.pyplot as plt"
   ]
  },
  {
   "cell_type": "markdown",
   "id": "e5766722-acee-429a-a2c4-085703367d51",
   "metadata": {},
   "source": [
    "## Dataset Loading"
   ]
  },
  {
   "cell_type": "code",
   "execution_count": 14,
   "id": "5c46a261-ca4b-4db8-919e-9d7d40389666",
   "metadata": {},
   "outputs": [],
   "source": [
    "# Load Dataset\n",
    "file_path = \"C:/Users/sejal rajore/Downloads/Uber Request Data.csv\"\n",
    "data = pd.read_csv(file_path)"
   ]
  },
  {
   "cell_type": "markdown",
   "id": "53488cb8-85ed-4312-8af8-8260fa104fc0",
   "metadata": {},
   "source": [
    "## Dataset First View"
   ]
  },
  {
   "cell_type": "code",
   "execution_count": 15,
   "id": "d8624626-c2cc-43c4-8892-3ac767a80ac1",
   "metadata": {},
   "outputs": [
    {
     "data": {
      "text/html": [
       "<div>\n",
       "<style scoped>\n",
       "    .dataframe tbody tr th:only-of-type {\n",
       "        vertical-align: middle;\n",
       "    }\n",
       "\n",
       "    .dataframe tbody tr th {\n",
       "        vertical-align: top;\n",
       "    }\n",
       "\n",
       "    .dataframe thead th {\n",
       "        text-align: right;\n",
       "    }\n",
       "</style>\n",
       "<table border=\"1\" class=\"dataframe\">\n",
       "  <thead>\n",
       "    <tr style=\"text-align: right;\">\n",
       "      <th></th>\n",
       "      <th>Request id</th>\n",
       "      <th>Pickup point</th>\n",
       "      <th>Driver id</th>\n",
       "      <th>Status</th>\n",
       "      <th>Request timestamp</th>\n",
       "      <th>Drop timestamp</th>\n",
       "    </tr>\n",
       "  </thead>\n",
       "  <tbody>\n",
       "    <tr>\n",
       "      <th>0</th>\n",
       "      <td>619</td>\n",
       "      <td>Airport</td>\n",
       "      <td>1.0</td>\n",
       "      <td>Trip Completed</td>\n",
       "      <td>11/7/2016 11:51</td>\n",
       "      <td>11/7/2016 13:00</td>\n",
       "    </tr>\n",
       "    <tr>\n",
       "      <th>1</th>\n",
       "      <td>867</td>\n",
       "      <td>Airport</td>\n",
       "      <td>1.0</td>\n",
       "      <td>Trip Completed</td>\n",
       "      <td>11/7/2016 17:57</td>\n",
       "      <td>11/7/2016 18:47</td>\n",
       "    </tr>\n",
       "    <tr>\n",
       "      <th>2</th>\n",
       "      <td>1807</td>\n",
       "      <td>City</td>\n",
       "      <td>1.0</td>\n",
       "      <td>Trip Completed</td>\n",
       "      <td>12/7/2016 9:17</td>\n",
       "      <td>12/7/2016 9:58</td>\n",
       "    </tr>\n",
       "    <tr>\n",
       "      <th>3</th>\n",
       "      <td>2532</td>\n",
       "      <td>Airport</td>\n",
       "      <td>1.0</td>\n",
       "      <td>Trip Completed</td>\n",
       "      <td>12/7/2016 21:08</td>\n",
       "      <td>12/7/2016 22:03</td>\n",
       "    </tr>\n",
       "    <tr>\n",
       "      <th>4</th>\n",
       "      <td>3112</td>\n",
       "      <td>City</td>\n",
       "      <td>1.0</td>\n",
       "      <td>Trip Completed</td>\n",
       "      <td>13-07-2016 08:33:16</td>\n",
       "      <td>13-07-2016 09:25:47</td>\n",
       "    </tr>\n",
       "  </tbody>\n",
       "</table>\n",
       "</div>"
      ],
      "text/plain": [
       "   Request id Pickup point  Driver id          Status    Request timestamp  \\\n",
       "0         619      Airport        1.0  Trip Completed      11/7/2016 11:51   \n",
       "1         867      Airport        1.0  Trip Completed      11/7/2016 17:57   \n",
       "2        1807         City        1.0  Trip Completed       12/7/2016 9:17   \n",
       "3        2532      Airport        1.0  Trip Completed      12/7/2016 21:08   \n",
       "4        3112         City        1.0  Trip Completed  13-07-2016 08:33:16   \n",
       "\n",
       "        Drop timestamp  \n",
       "0      11/7/2016 13:00  \n",
       "1      11/7/2016 18:47  \n",
       "2       12/7/2016 9:58  \n",
       "3      12/7/2016 22:03  \n",
       "4  13-07-2016 09:25:47  "
      ]
     },
     "execution_count": 15,
     "metadata": {},
     "output_type": "execute_result"
    }
   ],
   "source": [
    "# Dataset First View\n",
    "data.head()"
   ]
  },
  {
   "cell_type": "markdown",
   "id": "2b2ed899-cebe-4bf0-b91c-eb4e9cf68b89",
   "metadata": {},
   "source": [
    "## Dataset Rows & Columns count"
   ]
  },
  {
   "cell_type": "code",
   "execution_count": 16,
   "id": "65e87c76-4bd5-4339-b855-3969d95bad09",
   "metadata": {},
   "outputs": [
    {
     "data": {
      "text/plain": [
       "(6745, 6)"
      ]
     },
     "execution_count": 16,
     "metadata": {},
     "output_type": "execute_result"
    }
   ],
   "source": [
    "# Dataset Rows & Columns count\n",
    "data.shape"
   ]
  },
  {
   "cell_type": "markdown",
   "id": "b62c4524-949f-4cf7-a884-6d0d5c725aa9",
   "metadata": {},
   "source": [
    "## Dataset Information"
   ]
  },
  {
   "cell_type": "code",
   "execution_count": 18,
   "id": "d8272686-9d56-4a5b-b4ab-05f9dbac1840",
   "metadata": {},
   "outputs": [
    {
     "name": "stdout",
     "output_type": "stream",
     "text": [
      "<class 'pandas.core.frame.DataFrame'>\n",
      "RangeIndex: 6745 entries, 0 to 6744\n",
      "Data columns (total 6 columns):\n",
      " #   Column             Non-Null Count  Dtype  \n",
      "---  ------             --------------  -----  \n",
      " 0   Request id         6745 non-null   int64  \n",
      " 1   Pickup point       6745 non-null   object \n",
      " 2   Driver id          4095 non-null   float64\n",
      " 3   Status             6745 non-null   object \n",
      " 4   Request timestamp  6745 non-null   object \n",
      " 5   Drop timestamp     2831 non-null   object \n",
      "dtypes: float64(1), int64(1), object(4)\n",
      "memory usage: 316.3+ KB\n"
     ]
    }
   ],
   "source": [
    "# Dataset Info\n",
    "data.info()"
   ]
  },
  {
   "cell_type": "markdown",
   "id": "8bb9ae3f-30db-4f1d-a4df-24d5edb91af9",
   "metadata": {},
   "source": [
    "## Duplicate Values"
   ]
  },
  {
   "cell_type": "code",
   "execution_count": 19,
   "id": "bce3824f-8ae8-4bb5-b100-7970ac5da2f4",
   "metadata": {},
   "outputs": [
    {
     "data": {
      "text/plain": [
       "0"
      ]
     },
     "execution_count": 19,
     "metadata": {},
     "output_type": "execute_result"
    }
   ],
   "source": [
    "# Dataset Duplicate Value count\n",
    "data.duplicated().sum()"
   ]
  },
  {
   "cell_type": "markdown",
   "id": "e4ff7d25-e85f-4277-a8f3-a14b6c1c6c07",
   "metadata": {},
   "source": [
    "## Missing Values/Null Values"
   ]
  },
  {
   "cell_type": "code",
   "execution_count": 20,
   "id": "44ad42ae-5298-4f04-b5ef-77d2e3fc8dbd",
   "metadata": {},
   "outputs": [
    {
     "data": {
      "text/plain": [
       "6564"
      ]
     },
     "execution_count": 20,
     "metadata": {},
     "output_type": "execute_result"
    }
   ],
   "source": [
    "# Missing Values/Null Values Count\n",
    "data.isnull().sum().sum()"
   ]
  },
  {
   "cell_type": "markdown",
   "id": "879fc3aa-1c77-4bec-a77f-211d2fb7c8cc",
   "metadata": {},
   "source": [
    "## What did you Know about your dataset ?"
   ]
  },
  {
   "cell_type": "raw",
   "id": "0670bfd7-c326-46ac-8122-af6354a87188",
   "metadata": {},
   "source": [
    "In Uber Request Data there are five columns such as (Request timestamp, Drop timestamp,Pickup point (City or Airport),\n",
    "Status (Trip Completed, Cancelled, No Cars Available),Driver id) etc.\n",
    "This dataset provides rich insights into urban mobility demand patterns, and when analyzed effectively, it helps Uber make data-driven decisions to balance demand and supply, reduce service failures, and improve rider and driver satisfaction."
   ]
  },
  {
   "cell_type": "markdown",
   "id": "0bb24b9d-436c-4a2e-8869-33643bc3c658",
   "metadata": {},
   "source": [
    "# 2. Understanding Your Variables"
   ]
  },
  {
   "cell_type": "code",
   "execution_count": 21,
   "id": "79e9343f-c100-4820-9cd1-ef0ed4c4b845",
   "metadata": {},
   "outputs": [
    {
     "data": {
      "text/plain": [
       "Index(['Request id', 'Pickup point', 'Driver id', 'Status',\n",
       "       'Request timestamp', 'Drop timestamp'],\n",
       "      dtype='object')"
      ]
     },
     "execution_count": 21,
     "metadata": {},
     "output_type": "execute_result"
    }
   ],
   "source": [
    "# Dataset Columns\n",
    "data.columns"
   ]
  },
  {
   "cell_type": "code",
   "execution_count": 22,
   "id": "98649902-881c-4e62-9399-7c17fe304e4b",
   "metadata": {},
   "outputs": [
    {
     "data": {
      "text/html": [
       "<div>\n",
       "<style scoped>\n",
       "    .dataframe tbody tr th:only-of-type {\n",
       "        vertical-align: middle;\n",
       "    }\n",
       "\n",
       "    .dataframe tbody tr th {\n",
       "        vertical-align: top;\n",
       "    }\n",
       "\n",
       "    .dataframe thead th {\n",
       "        text-align: right;\n",
       "    }\n",
       "</style>\n",
       "<table border=\"1\" class=\"dataframe\">\n",
       "  <thead>\n",
       "    <tr style=\"text-align: right;\">\n",
       "      <th></th>\n",
       "      <th>Request id</th>\n",
       "      <th>Driver id</th>\n",
       "    </tr>\n",
       "  </thead>\n",
       "  <tbody>\n",
       "    <tr>\n",
       "      <th>count</th>\n",
       "      <td>6745.000000</td>\n",
       "      <td>4095.000000</td>\n",
       "    </tr>\n",
       "    <tr>\n",
       "      <th>mean</th>\n",
       "      <td>3384.644922</td>\n",
       "      <td>149.501343</td>\n",
       "    </tr>\n",
       "    <tr>\n",
       "      <th>std</th>\n",
       "      <td>1955.099667</td>\n",
       "      <td>86.051994</td>\n",
       "    </tr>\n",
       "    <tr>\n",
       "      <th>min</th>\n",
       "      <td>1.000000</td>\n",
       "      <td>1.000000</td>\n",
       "    </tr>\n",
       "    <tr>\n",
       "      <th>25%</th>\n",
       "      <td>1691.000000</td>\n",
       "      <td>75.000000</td>\n",
       "    </tr>\n",
       "    <tr>\n",
       "      <th>50%</th>\n",
       "      <td>3387.000000</td>\n",
       "      <td>149.000000</td>\n",
       "    </tr>\n",
       "    <tr>\n",
       "      <th>75%</th>\n",
       "      <td>5080.000000</td>\n",
       "      <td>224.000000</td>\n",
       "    </tr>\n",
       "    <tr>\n",
       "      <th>max</th>\n",
       "      <td>6766.000000</td>\n",
       "      <td>300.000000</td>\n",
       "    </tr>\n",
       "  </tbody>\n",
       "</table>\n",
       "</div>"
      ],
      "text/plain": [
       "        Request id    Driver id\n",
       "count  6745.000000  4095.000000\n",
       "mean   3384.644922   149.501343\n",
       "std    1955.099667    86.051994\n",
       "min       1.000000     1.000000\n",
       "25%    1691.000000    75.000000\n",
       "50%    3387.000000   149.000000\n",
       "75%    5080.000000   224.000000\n",
       "max    6766.000000   300.000000"
      ]
     },
     "execution_count": 22,
     "metadata": {},
     "output_type": "execute_result"
    }
   ],
   "source": [
    "# Dataset Describe\n",
    "data.describe()"
   ]
  },
  {
   "cell_type": "code",
   "execution_count": null,
   "id": "29a5cb71-d959-4187-8eff-f21eb9e061f4",
   "metadata": {},
   "outputs": [],
   "source": [
    "## Variable Description"
   ]
  },
  {
   "cell_type": "code",
   "execution_count": 23,
   "id": "90a19499-d7a5-4dc9-bbf6-cf42e72f56d2",
   "metadata": {},
   "outputs": [
    {
     "data": {
      "text/plain": [
       "Request id           6745\n",
       "Pickup point            2\n",
       "Driver id             300\n",
       "Status                  3\n",
       "Request timestamp    5618\n",
       "Drop timestamp       2598\n",
       "dtype: int64"
      ]
     },
     "execution_count": 23,
     "metadata": {},
     "output_type": "execute_result"
    }
   ],
   "source": [
    "data.nunique()"
   ]
  },
  {
   "cell_type": "markdown",
   "id": "1a3cd13f-d878-42ae-a239-2129b86bdb6f",
   "metadata": {},
   "source": [
    "## Cheack Unique Values for each variable."
   ]
  },
  {
   "cell_type": "code",
   "execution_count": 24,
   "id": "b033532a-fa48-4c39-8921-a4c3455552e5",
   "metadata": {},
   "outputs": [
    {
     "data": {
      "text/plain": [
       "Request id           6745\n",
       "Pickup point            2\n",
       "Driver id             300\n",
       "Status                  3\n",
       "Request timestamp    5618\n",
       "Drop timestamp       2598\n",
       "dtype: int64"
      ]
     },
     "execution_count": 24,
     "metadata": {},
     "output_type": "execute_result"
    }
   ],
   "source": [
    "# Check Unique Values For each variable.\n",
    "data.nunique()"
   ]
  },
  {
   "cell_type": "markdown",
   "id": "8aebab1b-792c-4a20-8a21-dbe87d62f36a",
   "metadata": {},
   "source": [
    "# 3. Data Wrangling"
   ]
  },
  {
   "cell_type": "markdown",
   "id": "9f17f89c-b353-4760-af2e-901559d191c6",
   "metadata": {},
   "source": [
    "## Data Wrangling Code"
   ]
  },
  {
   "cell_type": "code",
   "execution_count": 25,
   "id": "b2474803-6933-404c-9c86-f604a77fb240",
   "metadata": {},
   "outputs": [],
   "source": [
    "# Convert timestamp columns to datetime\n",
    "df['Request timestamp'] = pd.to_datetime(df['Request timestamp'], dayfirst=True, errors='coerce')\n",
    "df['Drop timestamp'] = pd.to_datetime(df['Drop timestamp'], dayfirst=True, errors='coerce')\n",
    "\n",
    "# Extract hour and day\n",
    "df['Hour'] = df['Request timestamp'].dt.hour\n",
    "df['Day'] = df['Request timestamp'].dt.day_name()\n",
    "df['Trip Duration'] = (df['Drop timestamp'] - df['Request timestamp']).dt.total_seconds() / 60\n"
   ]
  },
  {
   "cell_type": "markdown",
   "id": "92894d8d-2f47-499c-982b-5b200b621d16",
   "metadata": {},
   "source": [
    "## What all manipulations have you done and insights you found ?"
   ]
  },
  {
   "cell_type": "raw",
   "id": "5e06f49e-67aa-4d57-bb94-cae65934ca27",
   "metadata": {},
   "source": [
    "1. Datetime Conversion\n",
    "   Converted Request timestamp and Drop timestamp columns from string to datetime format using pd.to_datetime.\n",
    "   Handled non-standard date formats and invalid entries using errors='coerce'.\n",
    "\n",
    "2. Feature Engineering\n",
    "   Extracted:\n",
    "   Hour of request (for time-based analysis)\n",
    "   Day of week (to observe daily patterns)\n",
    "   Trip Duration in minutes (Drop timestamp – Request timestamp)\n",
    "\n",
    "3. Missing Data Handling\n",
    "   Identified missing Driver id and Drop timestamp entries.\n",
    "   Missing Driver id → related to “No Cars Available” or pre-assign cancellations.\n",
    "   Missing Drop timestamp → indicates incomplete or failed trips.\n",
    "\n",
    "4. Filtering by Trip Status\n",
    "   Segregated data into:\n",
    "   Trip Completed\n",
    "   Cancelled\n",
    "   No Cars Available"
   ]
  },
  {
   "cell_type": "markdown",
   "id": "106c4b5c-c0f0-446a-a870-48ccf1c74ed8",
   "metadata": {},
   "source": [
    "# 4. Data Visualization , storytelling and Experimenting with charts: Understand the relationship between variables."
   ]
  },
  {
   "cell_type": "markdown",
   "id": "9759fee6-a34e-4da7-8e09-57cba1027506",
   "metadata": {},
   "source": [
    "## Chart - 1 [Request count by status]"
   ]
  },
  {
   "cell_type": "code",
   "execution_count": 26,
   "id": "f0765cd2-e6fc-461e-8838-879cb396137d",
   "metadata": {},
   "outputs": [
    {
     "data": {
      "image/png": "[encoded data removed]",
      "text/plain": [
       "<Figure size 640x480 with 1 Axes>"
      ]
     },
     "metadata": {},
     "output_type": "display_data"
    }
   ],
   "source": [
    "sns.countplot(x='Status', data=df)\n",
    "plt.title(\"Request Count by Status\")\n",
    "plt.show()\n"
   ]
  },
  {
   "cell_type": "markdown",
   "id": "4de2ee1a-42d2-424f-8071-5a56da17d2ca",
   "metadata": {},
   "source": [
    "## 1. Why did you pick the specific chart ?"
   ]
  },
  {
   "cell_type": "raw",
   "id": "83847d1b-1e76-4891-829f-b27f2ebe4217",
   "metadata": {},
   "source": [
    "countplot() is ideal for categorical variable frequency comparison.\n",
    "This is a count plot showing the number of Uber ride requests for each Status category:"
   ]
  },
  {
   "cell_type": "markdown",
   "id": "7ff2c388-2b00-4579-96a6-5457ab593efb",
   "metadata": {},
   "source": [
    "## 2. what is/are insight(s) found from the chart ?"
   ]
  },
  {
   "cell_type": "raw",
   "id": "76ba96fc-3ea0-41f6-b1f9-72db3e144a02",
   "metadata": {},
   "source": [
    "1. Trip Failures Are High\n",
    "2. Most Common Failure Type\n",
    "3. Operational Inefficiencies"
   ]
  },
  {
   "cell_type": "markdown",
   "id": "04b5f6a0-1339-4c65-b117-adaed86ed5e8",
   "metadata": {},
   "source": [
    "## 3. will the gained insights help creating a positive business impact ?"
   ]
  },
  {
   "cell_type": "markdown",
   "id": "4b28f68b-bab2-46bd-8554-e016ee66ac9f",
   "metadata": {},
   "source": [
    "## are there any insights that iead to negative growth ? justify with negative reason ."
   ]
  },
  {
   "cell_type": "raw",
   "id": "cb4e4375-671b-493e-b2d3-ad5cbb353ee9",
   "metadata": {},
   "source": [
    "Positive Business Impacts:\n",
    "\n",
    "1. Improved Supply Planning\n",
    "   Knowing peak hours (7–9 AM, 5–9 PM) helps Uber optimize driver allocation.\n",
    "   Result: Fewer unfulfilled rides, reduced \"No Cars Available\".\n",
    "\n",
    "2. Reduced Cancellations\n",
    "   Identifying when and where cancellations are most common allows Uber to adjust driver incentives or penalty structures.\n",
    "   Result: Improved trip completion rates and better customer trust.\n",
    "\n",
    "3. Enhanced Customer Experience\n",
    "   Understanding delays and issues by location/time leads to smarter surge pricing and real-time communication.\n",
    "   Result: Faster pickups, shorter wait times, and higher app retention.\n",
    "\n",
    "Negative Insight Examples and Risks:\n",
    "\n",
    "1. High “No Cars Available” Rate in Evenings (Airport)\n",
    "    If not fixed, customers at the airport may switch to competitors due to frequent unavailability.\n",
    "    Negative Impact: Loss of market share and poor ratings.\n",
    "\n",
    "2. High Morning Cancellations from City\n",
    "   If unaddressed, it shows driver reliability issues.\n",
    "   Negative Impact: Users lose trust and uninstall the app."
   ]
  },
  {
   "cell_type": "markdown",
   "id": "205d1633-cc6e-4023-98f5-56aa704a401f",
   "metadata": {},
   "source": [
    "# chart - 2 [Request by hours]"
   ]
  },
  {
   "cell_type": "code",
   "execution_count": 27,
   "id": "9a791812-f1fb-49cb-9623-7d2f308dab3a",
   "metadata": {},
   "outputs": [
    {
     "name": "stderr",
     "output_type": "stream",
     "text": [
      "C:\\Users\\sejal rajore\\anaconda3\\Lib\\site-packages\\seaborn\\_oldcore.py:1119: FutureWarning: use_inf_as_na option is deprecated and will be removed in a future version. Convert inf values to NaN before operating instead.\n",
      "  with pd.option_context('mode.use_inf_as_na', True):\n"
     ]
    },
    {
     "data": {
      "image/png": "[encoded data removed]",
      "text/plain": [
       "<Figure size 640x480 with 1 Axes>"
      ]
     },
     "metadata": {},
     "output_type": "display_data"
    }
   ],
   "source": [
    "sns.histplot(df['Hour'], bins=24)\n",
    "plt.title(\"Requests by Hour\")\n",
    "plt.show()\n"
   ]
  },
  {
   "cell_type": "markdown",
   "id": "d26a6a13-bd0e-45f7-b260-ed7769f2576a",
   "metadata": {},
   "source": [
    "## 1. Why did you pick the specific chart?"
   ]
  },
  {
   "cell_type": "raw",
   "id": "d1add2c8-56f5-4bbf-8247-8424c09b1eac",
   "metadata": {},
   "source": [
    "1. A histogram (or countplot) of Hour is ideal for visualizing time-based frequency.\n",
    "2. It shows how ride request volume varies throughout the day.\n",
    "3. The bins=24 setting groups the data into each of the 24 hours, giving granular time insights"
   ]
  },
  {
   "cell_type": "markdown",
   "id": "e529efb9-df61-4866-86a1-1ff84a9b24f7",
   "metadata": {},
   "source": [
    "##  2. What is/are the insight(s) found from the chart? "
   ]
  },
  {
   "cell_type": "raw",
   "id": "bc5d147f-3999-436a-a6b8-f8cebd2e32ee",
   "metadata": {},
   "source": [
    "1. Peak Demand Hours Identified:\n",
    "   Major request spikes at:\n",
    "   Morning (7–9 AM)\n",
    "   Evening (5–9 PM)\n",
    "\n",
    "These hours correspond to commute times.\n",
    "\n",
    "2. Low-Demand Periods:\n",
    "Very few requests late at night and early morning (e.g., 1 AM – 5 AM).\n",
    "\n",
    "3. Midday Is Operationally Smoother:\n",
    "Fewer requests between 11 AM – 4 PM → could be ideal for maintenance or shift changes."
   ]
  },
  {
   "cell_type": "markdown",
   "id": "39546252-571a-4c27-9519-37c9063024ff",
   "metadata": {},
   "source": [
    "## 3. Will the gained insights help creating a positive business impact?\n",
    "Are there any insights that lead to negative growth? Justify with specific reason."
   ]
  },
  {
   "cell_type": "raw",
   "id": "dcd7d805-46fe-44d9-88f3-ab41b0eb1f3e",
   "metadata": {},
   "source": [
    "Insight\tBusiness Action\tImpact\n",
    "\n",
    "1. Peak Hours Identified\t\n",
    "Assign more drivers during 7–9 AM, 5–9 PM\t\n",
    "Reduced cancellations, fewer “No Cars”\n",
    "\n",
    "2. Low-Demand Times\t\n",
    "Minimize active drivers\tLower operating cost\n",
    "Midday Smoother Period\tSchedule refueling, breaks, vehicle checks\tIncreased efficiency"
   ]
  },
  {
   "cell_type": "markdown",
   "id": "70e70142-0014-42d0-a3d0-76574a66ff49",
   "metadata": {},
   "source": [
    "# chart - 3 [pick up points vs status]"
   ]
  },
  {
   "cell_type": "code",
   "execution_count": 28,
   "id": "00d60809-921e-4437-9f78-36878d76b057",
   "metadata": {},
   "outputs": [
    {
     "data": {
      "image/png": "[encoded data removed]",
      "text/plain": [
       "<Figure size 640x480 with 1 Axes>"
      ]
     },
     "metadata": {},
     "output_type": "display_data"
    }
   ],
   "source": [
    "sns.countplot(x='Pickup point', hue='Status', data=df)\n",
    "plt.title(\"Pickup Point vs Status\")\n",
    "plt.show()\n"
   ]
  },
  {
   "cell_type": "markdown",
   "id": "c752e95c-8717-4aae-862c-50b231d500bd",
   "metadata": {},
   "source": [
    "##  1. Why did you pick the specific chart?"
   ]
  },
  {
   "cell_type": "code",
   "execution_count": null,
   "id": "d9e0132d-739b-4cf4-877d-3600177df7b0",
   "metadata": {},
   "outputs": [],
   "source": [
    "This count plot shows how trip statuses (Completed, Cancelled, No Cars Available) vary across different pickup points\n",
    "(City, Airport)."
   ]
  },
  {
   "cell_type": "markdown",
   "id": "5a5461e9-564a-47ab-b0cb-e68b41681c29",
   "metadata": {},
   "source": [
    "## 2. what is/are insight(s) found from chart ? "
   ]
  },
  {
   "cell_type": "raw",
   "id": "26c69316-f628-411a-93a9-0e8cbbb69522",
   "metadata": {},
   "source": [
    "1. City Pickup Point:\n",
    "Higher cancellations, especially in the morning.\n",
    "  1.Traffic congestion\n",
    "  2.Driver reluctance for long trips or short fares\n",
    "\n",
    "2. Airport Pickup Point:\n",
    "Higher \"No Cars Available\" during evening peak hours.\n",
    "  1.Driver fatigue or end-of-shift patterns\n",
    "  2.Long wait times for airport pickups, making it unattractive for drivers\n",
    "\n",
    "3. Trip Completion:\n",
    "Trip completion counts are relatively more stable for airport pickups compared to city ones."
   ]
  },
  {
   "cell_type": "markdown",
   "id": "956f75ee-95ae-493a-ae83-ca0b2d426d22",
   "metadata": {},
   "source": [
    "## 3. Will the gained insights help creating a positive business impact?\n",
    "Are there any insights that lead to negative growth? Justify with specific reason."
   ]
  },
  {
   "cell_type": "raw",
   "id": "e7dd2546-aa1e-4de9-92bb-a920a83fdea0",
   "metadata": {},
   "source": [
    "Positive Impacts :\n",
    "1. Better driver utilization\n",
    "2. Fewer unfulfilled rides\n",
    "3. Higher customer satisfaction\n",
    "\n",
    "Negetive Impacts :\n",
    "1. High Cancellations in City\n",
    "2. No Cars Available at Airport"
   ]
  },
  {
   "cell_type": "markdown",
   "id": "d763695e-a7ed-4b9f-9912-905faf0c85ba",
   "metadata": {},
   "source": [
    "# chart - 4 Cancelled vs No Cars Available (Line Plot)"
   ]
  },
  {
   "cell_type": "code",
   "execution_count": 29,
   "id": "30934921-ab51-42c1-9445-20480c944b7b",
   "metadata": {},
   "outputs": [
    {
     "data": {
      "image/png": "[encoded data removed]",
      "text/plain": [
       "<Figure size 640x480 with 1 Axes>"
      ]
     },
     "metadata": {},
     "output_type": "display_data"
    }
   ],
   "source": [
    "hourly = df.groupby(['Hour', 'Status']).size().unstack().fillna(0)\n",
    "hourly[['Cancelled', 'No Cars Available']].plot()\n",
    "plt.title(\"Cancelled vs No Cars Available by Hour\")\n",
    "plt.show()\n"
   ]
  },
  {
   "cell_type": "markdown",
   "id": "d678872c-6a36-48b5-a689-06fb35e931be",
   "metadata": {},
   "source": [
    "## 1. Why did you pick the specific chart?"
   ]
  },
  {
   "cell_type": "code",
   "execution_count": null,
   "id": "b10d643a-4bca-4e23-85c2-344d873ea034",
   "metadata": {},
   "outputs": [],
   "source": [
    " To compare the frequency of cancellations and no-car availability across different hours of the day."
   ]
  },
  {
   "cell_type": "markdown",
   "id": "7b16f324-b8cb-41e8-9860-b9e955b3cf09",
   "metadata": {},
   "source": [
    "## 2. What is/are the insight(s) found from the chart?"
   ]
  },
  {
   "cell_type": "raw",
   "id": "37507d11-46bc-43bd-b485-9723570b55d2",
   "metadata": {},
   "source": [
    "1. Cancellations Peak in the Morning (7–9 AM):\n",
    "\n",
    "    Especially high from city pickups.\n",
    "    Likely due to driver reluctance to navigate traffic or pick up far-away    passengers during rush hour.\n",
    "\n",
    "2. No Cars Available Peaks in Evening (5–9 PM):\n",
    "\n",
    "   Most pronounced around airport pickups.\n",
    "   Indicates driver shortages during outbound travel times (end of office hours).\n",
    "\n",
    "3. Midday & Late Night Hours Are Stable:\n",
    "   \n",
    "   Fewer issues during off-peak hours (11 AM–4 PM, 10 PM–4 AM)."
   ]
  },
  {
   "cell_type": "markdown",
   "id": "f03b9408-041e-4ac3-a46f-70232c3b62ad",
   "metadata": {},
   "source": [
    "# chart - 5 Top 10 Most Active Drivers"
   ]
  },
  {
   "cell_type": "code",
   "execution_count": 30,
   "id": "0b5ff7a7-beca-47cd-b91b-d8635a7ad35c",
   "metadata": {},
   "outputs": [
    {
     "data": {
      "image/png": "[encoded data removed]",
      "text/plain": [
       "<Figure size 640x480 with 1 Axes>"
      ]
     },
     "metadata": {},
     "output_type": "display_data"
    }
   ],
   "source": [
    "sns.countplot(y='Driver id', data=df[df['Driver id'].notna()],\n",
    "              order=df['Driver id'].value_counts().iloc[:10].index)\n",
    "plt.title(\"Top 10 Active Drivers\")\n",
    "plt.show()\n"
   ]
  },
  {
   "cell_type": "markdown",
   "id": "7b747f06-5617-439b-aef0-737922206cb0",
   "metadata": {},
   "source": [
    "## 1. Why did you pick the specific chart?"
   ]
  },
  {
   "cell_type": "raw",
   "id": "d8f63aea-afe3-4345-8934-8f41b78b378b",
   "metadata": {},
   "source": [
    "A horizontal bar chart (countplot with y='Driver id') is ideal for:\n",
    "   Comparing categorical variables with long text or numeric IDs.\n",
    "   Showing the frequency of requests handled by each driver."
   ]
  },
  {
   "cell_type": "markdown",
   "id": "6eb50fcf-847a-421c-ba53-a50ac5e73e79",
   "metadata": {},
   "source": [
    "##  2. What is/are the insight(s) found from the chart?"
   ]
  },
  {
   "cell_type": "raw",
   "id": "d628e574-49bb-4ffc-97bb-ab198fc9bdca",
   "metadata": {},
   "source": [
    "* Driver Efficiency and Workload\n",
    "* Operational Dependence\n",
    "* Driver Engagement Level"
   ]
  },
  {
   "cell_type": "markdown",
   "id": "605f9018-506c-4dc1-8508-a35adee8dc91",
   "metadata": {},
   "source": [
    "# chart - 6 Completed Trips by Hour"
   ]
  },
  {
   "cell_type": "code",
   "execution_count": 31,
   "id": "d4f09b4a-733f-4ff0-92fd-def68d767487",
   "metadata": {},
   "outputs": [
    {
     "data": {
      "image/png": "[encoded data removed]",
      "text/plain": [
       "<Figure size 640x480 with 1 Axes>"
      ]
     },
     "metadata": {},
     "output_type": "display_data"
    }
   ],
   "source": [
    "sns.countplot(x='Hour', data=df[df['Status'] == 'Trip Completed'])\n",
    "plt.title(\"Completed Trips by Hour\")\n",
    "plt.show()\n"
   ]
  },
  {
   "cell_type": "markdown",
   "id": "0cb40a60-d1e6-4e8d-9362-5f7188955d7c",
   "metadata": {},
   "source": [
    "# chart - 7 Cancelled Requests by Hour"
   ]
  },
  {
   "cell_type": "code",
   "execution_count": 32,
   "id": "6002a7dd-1228-41ba-8bad-18d41b23bde5",
   "metadata": {},
   "outputs": [
    {
     "data": {
      "image/png": "[encoded data removed]",
      "text/plain": [
       "<Figure size 640x480 with 1 Axes>"
      ]
     },
     "metadata": {},
     "output_type": "display_data"
    }
   ],
   "source": [
    "sns.countplot(x='Hour', data=df[df['Status'] == 'Cancelled'])\n",
    "plt.title(\"Cancelled Trips by Hour\")\n",
    "plt.show()\n"
   ]
  },
  {
   "cell_type": "markdown",
   "id": "c435fdc0-9c20-4849-8d86-960f7ec07fd2",
   "metadata": {},
   "source": [
    "# chart - 8  Trip Status by Hour (Stacked Bar)"
   ]
  },
  {
   "cell_type": "code",
   "execution_count": 33,
   "id": "677de3e7-11b8-4114-98be-840fb894c458",
   "metadata": {},
   "outputs": [
    {
     "data": {
      "image/png": "[encoded data removed]",
      "text/plain": [
       "<Figure size 640x480 with 1 Axes>"
      ]
     },
     "metadata": {},
     "output_type": "display_data"
    }
   ],
   "source": [
    "pd.crosstab(df['Hour'], df['Status']).plot(kind='bar', stacked=True)\n",
    "plt.title(\"Trip Status by Hour\")\n",
    "plt.show()\n"
   ]
  },
  {
   "cell_type": "markdown",
   "id": "6f02c766-b1ad-4b89-a472-ccf4193cf327",
   "metadata": {},
   "source": [
    "# 5. soultion to business objective "
   ]
  },
  {
   "cell_type": "markdown",
   "id": "ef549c79-1f6c-420e-ad72-24e82a59172a",
   "metadata": {},
   "source": [
    "## what do you suggest the client to achieve business objective ?"
   ]
  },
  {
   "cell_type": "raw",
   "id": "bb955c9d-5f66-4eed-abcc-db3ae951acf0",
   "metadata": {},
   "source": [
    "1. Real-time demand forecasting using historical hourly request trends.\n",
    "2. Penalize frequent cancellations or apply wait-time-based cancellation windows.\n",
    "3. Introduce driver incentives for completing city trips during high-cancellation hours.\n",
    "4. User reminders and upfront fare transparency to reduce last-minute user-initiated cancellations.\n",
    "5. Route optimization algorithms based on traffic-aware maps.\n",
    "6. Time-slot-based pricing and incentives to flatten demand spikes.\n",
    "7. Driver heatmaps to visualize idle vs. active drivers for dispatch optimization."
   ]
  },
  {
   "cell_type": "markdown",
   "id": "4bc39973-c1c0-4e8c-8553-fa3753bdbf5a",
   "metadata": {},
   "source": [
    "# conclusion "
   ]
  },
  {
   "cell_type": "raw",
   "id": "1e8cc4dc-2d6d-48da-b632-01209dc7f23f",
   "metadata": {},
   "source": [
    "1. High Cancellation Rates\n",
    "2. No Cars Available During Evening Hours\n",
    "3. Trip Durations Are Longer in Peak Hours"
   ]
  }
 ],
 "metadata": {
  "kernelspec": {
   "display_name": "Python 3 (ipykernel)",
   "language": "python",
   "name": "python3"
  },
  "language_info": {
   "codemirror_mode": {
    "name": "ipython",
    "version": 3
   },
   "file_extension": ".py",
   "mimetype": "text/x-python",
   "name": "python",
   "nbconvert_exporter": "python",
   "pygments_lexer": "ipython3",
   "version": "3.11.7"
  }
 },
 "nbformat": 4,
 "nbformat_minor": 5
}
